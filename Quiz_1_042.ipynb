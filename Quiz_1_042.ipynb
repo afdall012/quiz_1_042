{
  "nbformat": 4,
  "nbformat_minor": 0,
  "metadata": {
    "colab": {
      "provenance": []
    },
    "kernelspec": {
      "name": "python3",
      "display_name": "Python 3"
    },
    "language_info": {
      "name": "python"
    }
  },
  "cells": [
    {
      "cell_type": "code",
      "execution_count": 2,
      "metadata": {
        "colab": {
          "base_uri": "https://localhost:8080/"
        },
        "id": "g2iImLoUCkmb",
        "outputId": "8f61766d-59ec-4ad4-9450-a7392c6e92a2"
      },
      "outputs": [
        {
          "output_type": "stream",
          "name": "stdout",
          "text": [
            "Minimum value: 12\n",
            "Maximum value: 100\n",
            "Transposed matrix:\n",
            "[34, 72, 61]\n",
            "[100, 24, 20]\n",
            "[12, 55, 19]\n",
            "Multiplied matrix:\n",
            "[518, 664, 810]\n",
            "[553, 704, 855]\n",
            "[274, 374, 474]\n",
            "Added matrix:\n",
            "[68, 200, 24]\n",
            "[144, 48, 110]\n",
            "[122, 40, 38]\n"
          ]
        }
      ],
      "source": [
        "# Muh. Afdal Maedja\n",
        "# F55122042\n",
        "class MatrixOperations:\n",
        "    def __init__(self, matrix):\n",
        "        self.matrix = matrix\n",
        "\n",
        "    def find_min_max(self):\n",
        "        min_val = min(min(row) for row in self.matrix)\n",
        "        max_val = max(max(row) for row in self.matrix)\n",
        "        return min_val, max_val\n",
        "\n",
        "    def transpose(self):\n",
        "        transposed_matrix = [[self.matrix[j][i] for j in range(len(self.matrix))] for i in range(len(self.matrix[0]))]\n",
        "        return transposed_matrix\n",
        "\n",
        "    def multiply(self, matrix2):\n",
        "        if len(self.matrix[0]) != len(matrix2):\n",
        "            raise ValueError(\"Cannot multiply matrices. Incompatible dimensions.\")\n",
        "        result = [[sum(a * b for a, b in zip(row1, col2)) for col2 in zip(*matrix2)] for row1 in self.matrix]\n",
        "        return result\n",
        "\n",
        "    def add(self, matrix2):\n",
        "        if len(self.matrix) != len(matrix2) or len(self.matrix[0]) != len(matrix2[0]):\n",
        "            raise ValueError(\"Cannot add matrices. Incompatible dimensions.\")\n",
        "        result = [[self.matrix[i][j] + matrix2[i][j] for j in range(len(self.matrix[0]))] for i in range(len(self.matrix))]\n",
        "        return result\n",
        "\n",
        "\n",
        "if __name__ == \"__main__\":\n",
        "    matrix_A = [\n",
        "        [34, 100, 12],\n",
        "        [72, 24, 55],\n",
        "        [61, 20, 19]\n",
        "    ]\n",
        "\n",
        "    operations = MatrixOperations(matrix_A)\n",
        "\n",
        "    # Menghitung element terbesar dan terkecil\n",
        "    min_val, max_val = operations.find_min_max()\n",
        "    print(\"Minimum value:\", min_val)\n",
        "    print(\"Maximum value:\", max_val)\n",
        "\n",
        "    # Transpose matrix (T)\n",
        "    transposed_matrix = operations.transpose()\n",
        "    print(\"Transposed matrix:\")\n",
        "    for row in transposed_matrix:\n",
        "        print(row)\n",
        "\n",
        "    # Menghitung perkalian matrix (A) dan (T)\n",
        "    matrix_B = [\n",
        "        [1, 2, 3],\n",
        "        [4, 5, 6],\n",
        "        [7, 8, 9]\n",
        "    ]\n",
        "    multiplied_matrix = operations.multiply(matrix_B)\n",
        "    print(\"Multiplied matrix:\")\n",
        "    for row in multiplied_matrix:\n",
        "        print(row)\n",
        "\n",
        "    # Menghitung penjumlahan matrix (T) dan (A)\n",
        "    added_matrix = operations.add(matrix_A)\n",
        "    print(\"Added matrix:\")\n",
        "    for row in added_matrix:\n",
        "        print(row)"
      ]
    },
    {
      "cell_type": "code",
      "source": [],
      "metadata": {
        "id": "aMU_2jBQCsMw"
      },
      "execution_count": null,
      "outputs": []
    }
  ]
}